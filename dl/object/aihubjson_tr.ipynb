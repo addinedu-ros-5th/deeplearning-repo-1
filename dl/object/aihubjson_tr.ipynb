{
 "cells": [
  {
   "cell_type": "code",
   "execution_count": 3,
   "metadata": {},
   "outputs": [],
   "source": [
    "import os\n",
    "import json\n",
    "\n",
    "input_directory = '/home/jinsa/Desktop/New Folder/'\n",
    "output_directory = '/home/jinsa/Desktop/New Folder'\n",
    "\n",
    "def convert_json_files(input_dir, output_dir):\n",
    "    if not os.path.exists(output_dir):\n",
    "        os.makedirs(output_dir)\n",
    "    for filename in os.listdir(input_dir):\n",
    "        if filename.endswith('.json'):\n",
    "            input_path = os.path.join(input_dir, filename)\n",
    "            with open(input_path, 'r', encoding='utf-8') as f:\n",
    "                data = json.load(f)\n",
    "                shapes = []\n",
    "                # 특정 개체 객체만 변환\n",
    "                for annotation in data['annotations']:\n",
    "                    if annotation['object_class'] == 'garbage_bag':\n",
    "                        bbox = annotation['bbox']\n",
    "                        points = [\n",
    "                            [bbox[0][0], bbox[0][1]],\n",
    "                            [bbox[1][0], bbox[1][1]]\n",
    "                        ]\n",
    "                        shape = {\n",
    "                            \"label\": \"garbage_bag\",\n",
    "                            \"points\": points,\n",
    "                            \"group_id\": None,\n",
    "                            \"description\": \"\",\n",
    "                            \"shape_type\": \"rectangle\",\n",
    "                            \"flags\": {},\n",
    "                            \"mask\": None\n",
    "                        }\n",
    "                        shapes.append(shape)\n",
    "                new_data = {\n",
    "                    \"version\": \"5.4.1\",\n",
    "                    \"flags\": {},\n",
    "                    \"shapes\": shapes,\n",
    "                    \"imagePath\": data['images']['ori_file_name'],\n",
    "                    \"imageData\": None,\n",
    "                    \"imageHeight\": data['images']['height'],\n",
    "                    \"imageWidth\": data['images']['width']\n",
    "                }\n",
    "                # 새로운 JSON 파일 저장\n",
    "                output_path = os.path.join(output_dir, filename)\n",
    "                with open(output_path, 'w', encoding='utf-8') as out_f:\n",
    "                    json.dump(new_data, out_f, indent=4, ensure_ascii=False)\n",
    "\n",
    "convert_json_files(input_directory, output_directory)"
   ]
  },
  {
   "cell_type": "markdown",
   "metadata": {},
   "source": [
    "### 데이터 개수 2500개로 축소 (랜덤 샘플링)"
   ]
  },
  {
   "cell_type": "code",
   "execution_count": 8,
   "metadata": {},
   "outputs": [
    {
     "name": "stdout",
     "output_type": "stream",
     "text": [
      "이름이 같은 2500개의 JPG 및 JSON 파일이 랜덤하게 추출되어 대상 폴더에 저장되었습니다.\n"
     ]
    }
   ],
   "source": [
    "import os\n",
    "import random\n",
    "import shutil\n",
    "\n",
    "# 원본 폴더 경로\n",
    "source_folder = '/home/jinsa/Desktop/쓰레기봉투_이미지/'\n",
    "\n",
    "# 대상 폴더 경로\n",
    "destination_folder = '/home/jinsa/Desktop/4mix'\n",
    "\n",
    "# 폴더가 존재하지 않으면 생성\n",
    "if not os.path.exists(destination_folder):\n",
    "    os.makedirs(destination_folder)\n",
    "\n",
    "# JPG 및 JSON 파일 리스트 생성\n",
    "jpg_files = {os.path.splitext(f)[0] for f in os.listdir(source_folder) if f.endswith('.jpg')}\n",
    "json_files = {os.path.splitext(f)[0] for f in os.listdir(source_folder) if f.endswith('.json')}\n",
    "\n",
    "# 이름이 같은 파일들 찾기\n",
    "common_files = list(jpg_files.intersection(json_files))\n",
    "\n",
    "# 2000개의 파일을 랜덤하게 추출\n",
    "sample_files = random.sample(common_files,2488)\n",
    "\n",
    "# 추출한 파일을 대상 폴더로 복사\n",
    "for file_name in sample_files:\n",
    "    jpg_file = file_name + '.jpg'\n",
    "    json_file = file_name + '.json'\n",
    "    shutil.copy(os.path.join(source_folder, jpg_file), os.path.join(destination_folder, jpg_file))\n",
    "    shutil.copy(os.path.join(source_folder, json_file), os.path.join(destination_folder, json_file))\n",
    "\n",
    "print(\"이름이 같은 2500개의 JPG 및 JSON 파일이 랜덤하게 추출되어 대상 폴더에 저장되었습니다.\")\n"
   ]
  },
  {
   "cell_type": "markdown",
   "metadata": {},
   "source": [
    "## 3가지 객체 추가로 진행"
   ]
  },
  {
   "cell_type": "code",
   "execution_count": 5,
   "metadata": {},
   "outputs": [
    {
     "name": "stderr",
     "output_type": "stream",
     "text": [
      " 33%|███▎      | 1/3 [00:11<00:22, 11.08s/it]"
     ]
    },
    {
     "name": "stdout",
     "output_type": "stream",
     "text": [
      "이름이 같은 2500개의 JPG 및 JSON 파일이 각각의 원본 폴더에서 랜덤하게 추출되어 대상 폴더에 저장되었습니다.\n"
     ]
    },
    {
     "name": "stderr",
     "output_type": "stream",
     "text": [
      " 67%|██████▋   | 2/3 [00:26<00:13, 13.38s/it]"
     ]
    },
    {
     "name": "stdout",
     "output_type": "stream",
     "text": [
      "이름이 같은 2500개의 JPG 및 JSON 파일이 각각의 원본 폴더에서 랜덤하게 추출되어 대상 폴더에 저장되었습니다.\n"
     ]
    },
    {
     "name": "stderr",
     "output_type": "stream",
     "text": [
      "100%|██████████| 3/3 [00:42<00:00, 14.21s/it]"
     ]
    },
    {
     "name": "stdout",
     "output_type": "stream",
     "text": [
      "이름이 같은 2500개의 JPG 및 JSON 파일이 각각의 원본 폴더에서 랜덤하게 추출되어 대상 폴더에 저장되었습니다.\n"
     ]
    },
    {
     "name": "stderr",
     "output_type": "stream",
     "text": [
      "\n"
     ]
    }
   ],
   "source": [
    "import os\n",
    "import random\n",
    "import shutil\n",
    "from tqdm import tqdm \n",
    "# 원본 폴더 경로 목록\n",
    "source_folders = [\n",
    "    #'/home/jinsa/Desktop/쓰레기봉투_이미지'.\n",
    "    '/home/jinsa/Desktop/반려동물_이미지/',\n",
    "    '/home/jinsa/Desktop/텐트_이미지/',\n",
    "    '/home/jinsa/Desktop/현수막_이미지/',\n",
    "]\n",
    "\n",
    "\n",
    "destination_folder = '/home/jinsa/Desktop/4mix'\n",
    "\n",
    "\n",
    "if not os.path.exists(destination_folder):\n",
    "    os.makedirs(destination_folder)\n",
    "\n",
    "for source_folder in tqdm(source_folders):\n",
    "  \n",
    "    jpg_files = {os.path.splitext(f)[0] for f in os.listdir(source_folder) if f.endswith('.jpg')}\n",
    "    json_files = {os.path.splitext(f)[0] for f in os.listdir(source_folder) if f.endswith('.json')}\n",
    "\n",
    "  \n",
    "    common_files = list(jpg_files.intersection(json_files))\n",
    "\n",
    "    \n",
    "    sample_files = random.sample(common_files, 2500)\n",
    "\n",
    " \n",
    "    for file_name in sample_files:\n",
    "        jpg_file = file_name + '.jpg'\n",
    "        json_file = file_name + '.json'\n",
    "        shutil.copy(os.path.join(source_folder, jpg_file), os.path.join(destination_folder, jpg_file))\n",
    "        shutil.copy(os.path.join(source_folder, json_file), os.path.join(destination_folder, json_file))\n",
    "        \n",
    "    print(\"이름이 같은 2500개의 JPG 및 JSON 파일이 각각의 원본 폴더에서 랜덤하게 추출되어 대상 폴더에 저장되었습니다.\")\n",
    "\n",
    "\n"
   ]
  }
 ],
 "metadata": {
  "kernelspec": {
   "display_name": "DL_project_venv",
   "language": "python",
   "name": "python3"
  },
  "language_info": {
   "codemirror_mode": {
    "name": "ipython",
    "version": 3
   },
   "file_extension": ".py",
   "mimetype": "text/x-python",
   "name": "python",
   "nbconvert_exporter": "python",
   "pygments_lexer": "ipython3",
   "version": "3.10.12"
  }
 },
 "nbformat": 4,
 "nbformat_minor": 2
}
