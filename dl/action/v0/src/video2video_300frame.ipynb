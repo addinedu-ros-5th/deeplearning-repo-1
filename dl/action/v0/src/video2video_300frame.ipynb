{
 "cells": [
  {
   "cell_type": "markdown",
   "metadata": {},
   "source": [
    "## Convert the length of mp4 video through data augumentation"
   ]
  },
  {
   "cell_type": "markdown",
   "metadata": {},
   "source": [
    "### one video"
   ]
  },
  {
   "cell_type": "code",
   "execution_count": 2,
   "metadata": {},
   "outputs": [
    {
     "name": "stdout",
     "output_type": "stream",
     "text": [
      "Augmented video saved to /home/jinsa/Downloads/output_video.mp4\n"
     ]
    }
   ],
   "source": [
    "import cv2\n",
    "import os\n",
    "\n",
    "def augment_video_with_reverse(input_path, output_path, target_frames=300):\n",
    "    cap = cv2.VideoCapture(input_path)\n",
    "    if not cap.isOpened():\n",
    "        print(f\"Error opening video file {input_path}\")\n",
    "        return\n",
    "    \n",
    "    # Get video properties\n",
    "    width = int(cap.get(cv2.CAP_PROP_FRAME_WIDTH))\n",
    "    height = int(cap.get(cv2.CAP_PROP_FRAME_HEIGHT))\n",
    "    fps = cap.get(cv2.CAP_PROP_FPS)\n",
    "    fourcc = cv2.VideoWriter_fourcc(*'mp4v')\n",
    "    \n",
    "    # Read all frames from the video\n",
    "    frames = []\n",
    "    while cap.isOpened():\n",
    "        ret, frame = cap.read()\n",
    "        if not ret:\n",
    "            break\n",
    "        frames.append(frame)\n",
    "    \n",
    "    cap.release()\n",
    "    \n",
    "    # Reverse the frames\n",
    "    reversed_frames = frames[::-1]\n",
    "    \n",
    "    # Combine original and reversed frames\n",
    "    combined_frames = frames + reversed_frames\n",
    "    \n",
    "    # Repeat frames if necessary to reach the target number of frames\n",
    "    while len(combined_frames) < target_frames:\n",
    "        combined_frames += frames + reversed_frames\n",
    "\n",
    "    # Truncate to target number of frames\n",
    "    combined_frames = combined_frames[:target_frames]\n",
    "    \n",
    "    # Write the combined frames to the output video\n",
    "    out = cv2.VideoWriter(output_path, fourcc, fps, (width, height))\n",
    "    for frame in combined_frames:\n",
    "        out.write(frame)\n",
    "    \n",
    "    out.release()\n",
    "    print(f\"Augmented video saved to {output_path}\")\n",
    "\n",
    "# Example usage\n",
    "input_video_path = \"/home/jinsa/Downloads/smoking/video3.mp4\"\n",
    "output_video_path = \"/home/jinsa/Downloads/output_video.mp4\"\n",
    "augment_video_with_reverse(input_video_path, output_video_path, target_frames=300)"
   ]
  },
  {
   "cell_type": "markdown",
   "metadata": {},
   "source": [
    "### folder"
   ]
  },
  {
   "cell_type": "code",
   "execution_count": 1,
   "metadata": {},
   "outputs": [
    {
     "name": "stdout",
     "output_type": "stream",
     "text": [
      "C_5_1_smp_cl_08-29_14-56-00_c_aft_DF1.mp4 already has 542 frames, skipping.\n",
      "C_5_1_smp_cl_08-29_15-06-00_c_aft_DF1.mp4 already has 542 frames, skipping.\n",
      "C_5_1_smp_cl_08-29_15-25-00_b_aft_DF1.mp4 already has 542 frames, skipping.\n",
      "C_5_1_smp_cl_08-29_15-16-00_a_aft_DF1.mp4 already has 542 frames, skipping.\n",
      "C_5_1_smp_cl_08-29_14-56-00_b_aft_DF1.mp4 already has 542 frames, skipping.\n",
      "C_5_1_smp_cl_08-29_15-16-00_b_aft_DF1.mp4 already has 542 frames, skipping.\n",
      "C_5_1_smp_cl_08-29_15-06-00_b_aft_DF1.mp4 already has 542 frames, skipping.\n",
      "C_5_1_smp_cl_08-29_15-16-00_c_aft_DF1.mp4 already has 542 frames, skipping.\n",
      "C_5_1_smp_cl_08-29_15-06-00_a_aft_DF1.mp4 already has 542 frames, skipping.\n",
      "C_5_1_smp_cl_08-29_15-01-00_a_aft_DF1.mp4 already has 542 frames, skipping.\n",
      "C_5_1_smp_cl_08-29_15-01-00_c_aft_DF1.mp4 already has 542 frames, skipping.\n",
      "C_5_1_smp_cl_08-29_15-01-00_b_aft_DF1.mp4 already has 542 frames, skipping.\n",
      "C_5_1_smp_cl_08-29_15-25-00_a_aft_DF1.mp4 already has 542 frames, skipping.\n"
     ]
    }
   ],
   "source": [
    "import cv2\n",
    "import os\n",
    "\n",
    "def get_frame_count(video_path):\n",
    "    cap = cv2.VideoCapture(video_path)\n",
    "    if not cap.isOpened():\n",
    "        print(f\"Error opening video file {video_path}\")\n",
    "        return 0\n",
    "    frame_count = int(cap.get(cv2.CAP_PROP_FRAME_COUNT))\n",
    "    cap.release()\n",
    "    return frame_count\n",
    "\n",
    "def augment_video_with_reverse(input_path, output_path, target_frames=300):\n",
    "    cap = cv2.VideoCapture(input_path)\n",
    "    if not cap.isOpened():\n",
    "        print(f\"Error opening video file {input_path}\")\n",
    "        return\n",
    "    \n",
    "    # Get video properties\n",
    "    width = int(cap.get(cv2.CAP_PROP_FRAME_WIDTH))\n",
    "    height = int(cap.get(cv2.CAP_PROP_FRAME_HEIGHT))\n",
    "    fps = cap.get(cv2.CAP_PROP_FPS)\n",
    "    fourcc = cv2.VideoWriter_fourcc(*'mp4v')\n",
    "    \n",
    "    # Read all frames from the video\n",
    "    frames = []\n",
    "    while cap.isOpened():\n",
    "        ret, frame = cap.read()\n",
    "        if not ret:\n",
    "            break\n",
    "        frames.append(frame)\n",
    "    \n",
    "    cap.release()\n",
    "    \n",
    "    # Reverse the frames\n",
    "    reversed_frames = frames[::-1]\n",
    "    \n",
    "    # Combine original and reversed frames\n",
    "    combined_frames = frames + reversed_frames\n",
    "    \n",
    "    # Repeat frames if necessary to reach the target number of frames\n",
    "    while len(combined_frames) < target_frames:\n",
    "        combined_frames += frames + reversed_frames\n",
    "\n",
    "    # Truncate to target number of frames\n",
    "    combined_frames = combined_frames[:target_frames]\n",
    "    \n",
    "    # Write the combined frames to the output video\n",
    "    out = cv2.VideoWriter(output_path, fourcc, fps, (width, height))\n",
    "    for frame in combined_frames:\n",
    "        out.write(frame)\n",
    "    \n",
    "    out.release()\n",
    "    print(f\"Augmented video saved to {output_path}\")\n",
    "\n",
    "def process_videos_in_directory(directory_path):\n",
    "    for filename in os.listdir(directory_path):\n",
    "        if filename.endswith(\".mp4\"):\n",
    "            video_path = os.path.join(directory_path, filename)\n",
    "            frame_count = get_frame_count(video_path)\n",
    "            if frame_count <= 300:\n",
    "                output_path = os.path.join(directory_path, f\"augmented_{filename}\")\n",
    "                augment_video_with_reverse(video_path, output_path, target_frames=300)\n",
    "            else:\n",
    "                print(f\"{filename} already has {frame_count} frames, skipping.\")\n",
    "\n",
    "# Example usage\n",
    "directory_path = \"/home/jinsa/Downloads/5-1공원의 안내문을 훼손하는 경우\"\n",
    "process_videos_in_directory(directory_path)\n"
   ]
  },
  {
   "cell_type": "code",
   "execution_count": null,
   "metadata": {},
   "outputs": [],
   "source": []
  }
 ],
 "metadata": {
  "kernelspec": {
   "display_name": "DL_project_venv",
   "language": "python",
   "name": "python3"
  },
  "language_info": {
   "codemirror_mode": {
    "name": "ipython",
    "version": 3
   },
   "file_extension": ".py",
   "mimetype": "text/x-python",
   "name": "python",
   "nbconvert_exporter": "python",
   "pygments_lexer": "ipython3",
   "version": "3.10.12"
  }
 },
 "nbformat": 4,
 "nbformat_minor": 2
}
