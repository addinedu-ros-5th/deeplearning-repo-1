{
 "cells": [
  {
   "cell_type": "code",
   "execution_count": 3,
   "metadata": {},
   "outputs": [],
   "source": [
    "import numpy as np \n",
    "import os\n",
    "\n",
    "\n",
    "data_path = './data'\n",
    "actions = np.array(['smoke', 'break'])\n",
    "videos = [f'video{n}' for n in range(1,13)]\n",
    "no_sequence = 10  # Number of sequences\n",
    "sequence_length = 30  # Length of each sequence"
   ]
  },
  {
   "cell_type": "code",
   "execution_count": 4,
   "metadata": {},
   "outputs": [],
   "source": [
    "label_map = {label:num for num, label in enumerate(actions)}\n",
    "\n",
    "sequences, labels = [], []\n",
    "\n",
    "for action in actions:\n",
    "    for video_name in videos:\n",
    "        for sequence in range(no_sequence):\n",
    "            window=[]\n",
    "            for frame_num in range(sequence_length):\n",
    "                res = np.load(os.path.join(data_path, action, video_name, f's{sequence}', \"{}.npy\".format(frame_num)))\n",
    "                \n",
    "                window.append(res)\n",
    "            sequences.append(window)\n",
    "            labels.append(label_map[action])"
   ]
  },
  {
   "cell_type": "code",
   "execution_count": 5,
   "metadata": {},
   "outputs": [
    {
     "name": "stderr",
     "output_type": "stream",
     "text": [
      "2024-06-14 11:28:24.736920: I tensorflow/core/platform/cpu_feature_guard.cc:193] This TensorFlow binary is optimized with oneAPI Deep Neural Network Library (oneDNN) to use the following CPU instructions in performance-critical operations:  AVX2 FMA\n",
      "To enable them in other operations, rebuild TensorFlow with the appropriate compiler flags.\n",
      "2024-06-14 11:28:24.839487: W tensorflow/stream_executor/platform/default/dso_loader.cc:64] Could not load dynamic library 'libcudart.so.11.0'; dlerror: libcudart.so.11.0: cannot open shared object file: No such file or directory; LD_LIBRARY_PATH: :/usr/local/cuda-12.1/lib64\n",
      "2024-06-14 11:28:24.839507: I tensorflow/stream_executor/cuda/cudart_stub.cc:29] Ignore above cudart dlerror if you do not have a GPU set up on your machine.\n",
      "2024-06-14 11:28:24.859596: E tensorflow/stream_executor/cuda/cuda_blas.cc:2981] Unable to register cuBLAS factory: Attempting to register factory for plugin cuBLAS when one has already been registered\n",
      "2024-06-14 11:28:25.373934: W tensorflow/stream_executor/platform/default/dso_loader.cc:64] Could not load dynamic library 'libnvinfer.so.7'; dlerror: libnvinfer.so.7: cannot open shared object file: No such file or directory; LD_LIBRARY_PATH: :/usr/local/cuda-12.1/lib64\n",
      "2024-06-14 11:28:25.374087: W tensorflow/stream_executor/platform/default/dso_loader.cc:64] Could not load dynamic library 'libnvinfer_plugin.so.7'; dlerror: libnvinfer_plugin.so.7: cannot open shared object file: No such file or directory; LD_LIBRARY_PATH: :/usr/local/cuda-12.1/lib64\n",
      "2024-06-14 11:28:25.374093: W tensorflow/compiler/tf2tensorrt/utils/py_utils.cc:38] TF-TRT Warning: Cannot dlopen some TensorRT libraries. If you would like to use Nvidia GPU with TensorRT, please make sure the missing libraries mentioned above are installed properly.\n"
     ]
    },
    {
     "data": {
      "text/plain": [
       "(240, 30, 66)"
      ]
     },
     "execution_count": 5,
     "metadata": {},
     "output_type": "execute_result"
    }
   ],
   "source": [
    "from sklearn.model_selection import train_test_split\n",
    "from tensorflow.keras.utils import to_categorical\n",
    "\n",
    "X = np.array(sequences)\n",
    "y = to_categorical(labels, num_classes=len(actions)).astype(int)\n",
    "\n",
    "X_train, X_test, y_train, y_test = train_test_split(X, y, test_size=0.05)\n",
    "\n",
    "X.shape # (sequence data num, time step, features)"
   ]
  },
  {
   "cell_type": "code",
   "execution_count": 7,
   "metadata": {},
   "outputs": [
    {
     "data": {
      "text/plain": [
       "array([[0.        , 0.        , 0.        , ..., 0.        , 0.        ,\n",
       "        0.        ],\n",
       "       [0.39017931, 0.85457551, 0.39234081, ..., 0.71860588, 0.30709237,\n",
       "        0.80953157],\n",
       "       [0.        , 0.        , 0.        , ..., 0.        , 0.        ,\n",
       "        0.        ],\n",
       "       ...,\n",
       "       [0.39413664, 0.8520236 , 0.39554924, ..., 0.73054761, 0.31544793,\n",
       "        0.80886602],\n",
       "       [0.        , 0.        , 0.        , ..., 0.        , 0.        ,\n",
       "        0.        ],\n",
       "       [0.        , 0.        , 0.        , ..., 0.        , 0.        ,\n",
       "        0.        ]])"
      ]
     },
     "execution_count": 7,
     "metadata": {},
     "output_type": "execute_result"
    }
   ],
   "source": [
    "X_test[8]"
   ]
  },
  {
   "cell_type": "code",
   "execution_count": 22,
   "metadata": {},
   "outputs": [
    {
     "name": "stdout",
     "output_type": "stream",
     "text": [
      "Model: \"sequential_2\"\n",
      "_________________________________________________________________\n",
      " Layer (type)                Output Shape              Param #   \n",
      "=================================================================\n",
      " lstm_8 (LSTM)               (None, 30, 60)            30480     \n",
      "                                                                 \n",
      " dropout_4 (Dropout)         (None, 30, 60)            0         \n",
      "                                                                 \n",
      " lstm_9 (LSTM)               (None, 30, 120)           86880     \n",
      "                                                                 \n",
      " lstm_10 (LSTM)              (None, 30, 60)            43440     \n",
      "                                                                 \n",
      " dense_4 (Dense)             (None, 30, 60)            3660      \n",
      "                                                                 \n",
      " bidirectional_2 (Bidirectio  (None, 200)              128800    \n",
      " nal)                                                            \n",
      "                                                                 \n",
      " dropout_5 (Dropout)         (None, 200)               0         \n",
      "                                                                 \n",
      " dense_5 (Dense)             (None, 2)                 402       \n",
      "                                                                 \n",
      "=================================================================\n",
      "Total params: 293,662\n",
      "Trainable params: 293,662\n",
      "Non-trainable params: 0\n",
      "_________________________________________________________________\n"
     ]
    }
   ],
   "source": [
    "import os\n",
    "import tensorflow as tf\n",
    "from tensorflow.keras.callbacks import TensorBoard\n",
    "from tensorflow.keras import layers, Sequential\n",
    "\n",
    "\n",
    "log_dir = os.path.join('Logs')\n",
    "tb_callback = TensorBoard(log_dir=log_dir)\n",
    "\n",
    "model = Sequential([\n",
    "    layers.LSTM(60, return_sequences=True, input_shape=(X_train.shape[1], X_train.shape[2])),\n",
    "    layers.Dropout(0.25),\n",
    "    layers.LSTM(120, return_sequences=True, activation='relu'),\n",
    "    layers.LSTM(60, return_sequences=True, activation='relu'),\n",
    "    layers.Dense(60, activation='relu'),\n",
    "    layers.Bidirectional(layers.LSTM(100)),\n",
    "    layers.Dropout(0.25),\n",
    "    layers.Dense(2, activation='softmax')\n",
    "])\n",
    "\n",
    "model.summary()\n"
   ]
  },
  {
   "cell_type": "code",
   "execution_count": 23,
   "metadata": {},
   "outputs": [
    {
     "name": "stdout",
     "output_type": "stream",
     "text": [
      "Epoch 1/100\n",
      "6/6 [==============================] - 4s 675ms/step - loss: 0.6677 - categorical_accuracy: 0.4945 - val_loss: 0.6886 - val_categorical_accuracy: 0.5870\n",
      "Epoch 2/100\n",
      "6/6 [==============================] - 5s 941ms/step - loss: 0.6272 - categorical_accuracy: 0.7473 - val_loss: 0.6579 - val_categorical_accuracy: 0.7174\n",
      "Epoch 3/100\n",
      "6/6 [==============================] - 5s 861ms/step - loss: 0.5680 - categorical_accuracy: 0.7857 - val_loss: 0.6061 - val_categorical_accuracy: 0.6087\n",
      "Epoch 4/100\n",
      "6/6 [==============================] - 5s 1s/step - loss: 0.5178 - categorical_accuracy: 0.7747 - val_loss: 0.5884 - val_categorical_accuracy: 0.7826\n",
      "Epoch 5/100\n",
      "6/6 [==============================] - 5s 832ms/step - loss: 0.4344 - categorical_accuracy: 0.7692 - val_loss: 0.5396 - val_categorical_accuracy: 0.8043\n",
      "Epoch 6/100\n",
      "6/6 [==============================] - 7s 1s/step - loss: 0.4557 - categorical_accuracy: 0.8077 - val_loss: 0.5229 - val_categorical_accuracy: 0.7826\n",
      "Epoch 7/100\n",
      "6/6 [==============================] - 5s 811ms/step - loss: 0.4294 - categorical_accuracy: 0.7912 - val_loss: 0.5144 - val_categorical_accuracy: 0.7826\n",
      "Epoch 8/100\n",
      "6/6 [==============================] - 5s 903ms/step - loss: 0.3725 - categorical_accuracy: 0.8352 - val_loss: 0.5186 - val_categorical_accuracy: 0.7826\n",
      "Epoch 9/100\n",
      "6/6 [==============================] - 5s 929ms/step - loss: 0.3536 - categorical_accuracy: 0.8132 - val_loss: 0.5134 - val_categorical_accuracy: 0.7826\n",
      "Epoch 10/100\n",
      "6/6 [==============================] - 6s 1s/step - loss: 0.3526 - categorical_accuracy: 0.8516 - val_loss: 0.4768 - val_categorical_accuracy: 0.7826\n",
      "Epoch 11/100\n",
      "6/6 [==============================] - 6s 1s/step - loss: 0.3564 - categorical_accuracy: 0.8407 - val_loss: 0.4489 - val_categorical_accuracy: 0.8261\n",
      "Epoch 12/100\n",
      "6/6 [==============================] - 6s 1s/step - loss: 0.3305 - categorical_accuracy: 0.8352 - val_loss: 0.4483 - val_categorical_accuracy: 0.8478\n",
      "Epoch 13/100\n",
      "6/6 [==============================] - 6s 1s/step - loss: 0.3130 - categorical_accuracy: 0.8681 - val_loss: 0.4034 - val_categorical_accuracy: 0.8478\n",
      "Epoch 14/100\n",
      "6/6 [==============================] - 6s 1s/step - loss: 0.6052 - categorical_accuracy: 0.7253 - val_loss: 0.5332 - val_categorical_accuracy: 0.7609\n",
      "Epoch 15/100\n",
      "6/6 [==============================] - 6s 1s/step - loss: 0.5122 - categorical_accuracy: 0.7802 - val_loss: 0.6177 - val_categorical_accuracy: 0.6957\n",
      "Epoch 16/100\n",
      "6/6 [==============================] - 8s 1s/step - loss: 0.4922 - categorical_accuracy: 0.7802 - val_loss: 0.5022 - val_categorical_accuracy: 0.7609\n",
      "Epoch 17/100\n",
      "6/6 [==============================] - 6s 1s/step - loss: 0.4428 - categorical_accuracy: 0.8022 - val_loss: 0.5473 - val_categorical_accuracy: 0.8043\n",
      "Epoch 18/100\n",
      "6/6 [==============================] - 6s 1s/step - loss: 0.3930 - categorical_accuracy: 0.8297 - val_loss: 0.5506 - val_categorical_accuracy: 0.7826\n",
      "Epoch 19/100\n",
      "6/6 [==============================] - 6s 900ms/step - loss: 0.3433 - categorical_accuracy: 0.8516 - val_loss: 0.4819 - val_categorical_accuracy: 0.8043\n",
      "Epoch 20/100\n",
      "6/6 [==============================] - 5s 910ms/step - loss: 0.3222 - categorical_accuracy: 0.8462 - val_loss: 0.4223 - val_categorical_accuracy: 0.8478\n",
      "Epoch 21/100\n",
      "6/6 [==============================] - 5s 954ms/step - loss: 0.3183 - categorical_accuracy: 0.8571 - val_loss: 0.3978 - val_categorical_accuracy: 0.8478\n",
      "Epoch 22/100\n",
      "6/6 [==============================] - 6s 1s/step - loss: 0.3133 - categorical_accuracy: 0.8791 - val_loss: 0.3867 - val_categorical_accuracy: 0.8696\n",
      "Epoch 23/100\n",
      "6/6 [==============================] - 6s 969ms/step - loss: 0.3154 - categorical_accuracy: 0.8901 - val_loss: 0.4080 - val_categorical_accuracy: 0.8913\n",
      "Epoch 24/100\n",
      "6/6 [==============================] - 6s 1s/step - loss: 0.3133 - categorical_accuracy: 0.8626 - val_loss: 0.3849 - val_categorical_accuracy: 0.8696\n",
      "Epoch 25/100\n",
      "6/6 [==============================] - 6s 1s/step - loss: 0.3046 - categorical_accuracy: 0.8571 - val_loss: 0.4028 - val_categorical_accuracy: 0.8478\n",
      "Epoch 26/100\n",
      "6/6 [==============================] - 6s 1s/step - loss: 0.3183 - categorical_accuracy: 0.8791 - val_loss: 0.4123 - val_categorical_accuracy: 0.7826\n",
      "Epoch 27/100\n",
      "6/6 [==============================] - 5s 828ms/step - loss: 0.3048 - categorical_accuracy: 0.8516 - val_loss: 0.4449 - val_categorical_accuracy: 0.7609\n",
      "Epoch 28/100\n",
      "6/6 [==============================] - 6s 1s/step - loss: 0.3510 - categorical_accuracy: 0.8297 - val_loss: 0.4839 - val_categorical_accuracy: 0.8261\n",
      "Epoch 29/100\n",
      "6/6 [==============================] - 6s 856ms/step - loss: 0.3032 - categorical_accuracy: 0.8626 - val_loss: 0.3859 - val_categorical_accuracy: 0.8696\n",
      "Epoch 30/100\n",
      "6/6 [==============================] - 6s 959ms/step - loss: 0.3246 - categorical_accuracy: 0.8846 - val_loss: 0.3833 - val_categorical_accuracy: 0.7826\n",
      "Epoch 31/100\n",
      "6/6 [==============================] - 5s 913ms/step - loss: 0.3413 - categorical_accuracy: 0.8901 - val_loss: 0.4374 - val_categorical_accuracy: 0.9130\n",
      "Epoch 32/100\n",
      "6/6 [==============================] - 5s 773ms/step - loss: 0.2675 - categorical_accuracy: 0.9176 - val_loss: 0.4775 - val_categorical_accuracy: 0.7826\n",
      "Epoch 33/100\n",
      "6/6 [==============================] - 5s 907ms/step - loss: 0.3188 - categorical_accuracy: 0.8626 - val_loss: 0.4334 - val_categorical_accuracy: 0.7391\n",
      "Epoch 34/100\n",
      "6/6 [==============================] - 5s 855ms/step - loss: 0.2972 - categorical_accuracy: 0.8626 - val_loss: 0.4062 - val_categorical_accuracy: 0.8478\n",
      "Epoch 35/100\n",
      "6/6 [==============================] - 6s 1s/step - loss: 0.2998 - categorical_accuracy: 0.9011 - val_loss: 0.3549 - val_categorical_accuracy: 0.8478\n",
      "Epoch 36/100\n",
      "6/6 [==============================] - 5s 893ms/step - loss: 0.2739 - categorical_accuracy: 0.8956 - val_loss: 0.3351 - val_categorical_accuracy: 0.8696\n",
      "Epoch 37/100\n",
      "6/6 [==============================] - 5s 841ms/step - loss: 0.2416 - categorical_accuracy: 0.9121 - val_loss: 0.6049 - val_categorical_accuracy: 0.7609\n",
      "Epoch 38/100\n",
      "6/6 [==============================] - 7s 1s/step - loss: 0.4212 - categorical_accuracy: 0.8462 - val_loss: 0.6369 - val_categorical_accuracy: 0.7609\n",
      "Epoch 39/100\n",
      "6/6 [==============================] - 5s 897ms/step - loss: 0.4320 - categorical_accuracy: 0.8187 - val_loss: 0.4636 - val_categorical_accuracy: 0.8043\n",
      "Epoch 40/100\n",
      "6/6 [==============================] - 6s 1s/step - loss: 0.3950 - categorical_accuracy: 0.8352 - val_loss: 0.5411 - val_categorical_accuracy: 0.7609\n",
      "Epoch 41/100\n",
      "6/6 [==============================] - 5s 851ms/step - loss: 0.3785 - categorical_accuracy: 0.8242 - val_loss: 0.5000 - val_categorical_accuracy: 0.7826\n",
      "Epoch 42/100\n",
      "6/6 [==============================] - 7s 1s/step - loss: 0.3797 - categorical_accuracy: 0.8626 - val_loss: 0.5009 - val_categorical_accuracy: 0.8696\n",
      "Epoch 43/100\n",
      "6/6 [==============================] - 5s 859ms/step - loss: 0.3225 - categorical_accuracy: 0.9011 - val_loss: 0.3915 - val_categorical_accuracy: 0.8478\n",
      "Epoch 44/100\n",
      "6/6 [==============================] - 6s 1s/step - loss: 0.2867 - categorical_accuracy: 0.9011 - val_loss: 0.3206 - val_categorical_accuracy: 0.8913\n",
      "Epoch 45/100\n",
      "6/6 [==============================] - 5s 952ms/step - loss: 0.2588 - categorical_accuracy: 0.8956 - val_loss: 0.2349 - val_categorical_accuracy: 0.9348\n",
      "Epoch 46/100\n",
      "6/6 [==============================] - 7s 1s/step - loss: 0.2657 - categorical_accuracy: 0.8956 - val_loss: 0.2693 - val_categorical_accuracy: 0.8913\n",
      "Epoch 47/100\n",
      "6/6 [==============================] - 5s 919ms/step - loss: 0.2739 - categorical_accuracy: 0.9121 - val_loss: 0.2675 - val_categorical_accuracy: 0.9348\n",
      "Epoch 48/100\n",
      "6/6 [==============================] - 4s 779ms/step - loss: 0.2244 - categorical_accuracy: 0.9066 - val_loss: 0.2494 - val_categorical_accuracy: 0.9348\n",
      "Epoch 49/100\n",
      "6/6 [==============================] - 5s 919ms/step - loss: 0.2837 - categorical_accuracy: 0.8956 - val_loss: 0.6120 - val_categorical_accuracy: 0.8261\n",
      "Epoch 50/100\n",
      "6/6 [==============================] - 4s 732ms/step - loss: 0.4721 - categorical_accuracy: 0.8297 - val_loss: 0.5820 - val_categorical_accuracy: 0.7826\n",
      "Epoch 51/100\n",
      "6/6 [==============================] - 4s 761ms/step - loss: 0.3734 - categorical_accuracy: 0.8407 - val_loss: 0.5150 - val_categorical_accuracy: 0.7609\n",
      "Epoch 52/100\n",
      "6/6 [==============================] - 4s 639ms/step - loss: 0.3720 - categorical_accuracy: 0.8462 - val_loss: 0.4969 - val_categorical_accuracy: 0.7826\n",
      "Epoch 53/100\n",
      "6/6 [==============================] - 6s 965ms/step - loss: 0.3608 - categorical_accuracy: 0.8516 - val_loss: 0.4966 - val_categorical_accuracy: 0.7826\n",
      "Epoch 54/100\n",
      "6/6 [==============================] - 5s 823ms/step - loss: 0.3458 - categorical_accuracy: 0.8516 - val_loss: 0.4783 - val_categorical_accuracy: 0.8478\n",
      "Epoch 55/100\n",
      "6/6 [==============================] - 6s 1s/step - loss: 0.3332 - categorical_accuracy: 0.8626 - val_loss: 0.4422 - val_categorical_accuracy: 0.8478\n",
      "Model: \"sequential_2\"\n",
      "_________________________________________________________________\n",
      " Layer (type)                Output Shape              Param #   \n",
      "=================================================================\n",
      " lstm_8 (LSTM)               (None, 30, 60)            30480     \n",
      "                                                                 \n",
      " dropout_4 (Dropout)         (None, 30, 60)            0         \n",
      "                                                                 \n",
      " lstm_9 (LSTM)               (None, 30, 120)           86880     \n",
      "                                                                 \n",
      " lstm_10 (LSTM)              (None, 30, 60)            43440     \n",
      "                                                                 \n",
      " dense_4 (Dense)             (None, 30, 60)            3660      \n",
      "                                                                 \n",
      " bidirectional_2 (Bidirectio  (None, 200)              128800    \n",
      " nal)                                                            \n",
      "                                                                 \n",
      " dropout_5 (Dropout)         (None, 200)               0         \n",
      "                                                                 \n",
      " dense_5 (Dense)             (None, 2)                 402       \n",
      "                                                                 \n",
      "=================================================================\n",
      "Total params: 293,662\n",
      "Trainable params: 293,662\n",
      "Non-trainable params: 0\n",
      "_________________________________________________________________\n"
     ]
    }
   ],
   "source": [
    "from tensorflow.keras.utils import to_categorical\n",
    "from tensorflow.keras.callbacks import EarlyStopping\n",
    "\n",
    "\n",
    "early_stopping = EarlyStopping(monitor='val_loss', patience=10, restore_best_weights=True)\n",
    "\n",
    "\n",
    "model.compile(optimizer='Adam', loss='categorical_crossentropy', metrics=['categorical_accuracy'])\n",
    "\n",
    "\n",
    "# (선택 사항) 즉시 실행 모드 설정\n",
    "tf.config.experimental_run_functions_eagerly(True)\n",
    "\n",
    "# 모델 학습\n",
    "history = model.fit(X_train, y_train, epochs=100, callbacks=[tb_callback, early_stopping], validation_split=0.2)\n",
    "\n",
    "\n",
    "# 모델 요약\n",
    "model.summary()\n"
   ]
  },
  {
   "cell_type": "code",
   "execution_count": 24,
   "metadata": {},
   "outputs": [
    {
     "name": "stdout",
     "output_type": "stream",
     "text": [
      "1/1 [==============================] - 0s 280ms/step\n",
      "Test Accuracy: 0.6666666666666666\n"
     ]
    },
    {
     "name": "stderr",
     "output_type": "stream",
     "text": [
      "/home/jinsa/venv/DL_project_venv/lib/python3.10/site-packages/tensorflow/python/data/ops/structured_function.py:264: UserWarning: Even though the `tf.config.experimental_run_functions_eagerly` option is set, this option does not apply to tf.data functions. To force eager execution of tf.data functions, please use `tf.data.experimental.enable_debug_mode()`.\n",
      "  warnings.warn(\n"
     ]
    },
    {
     "name": "stdout",
     "output_type": "stream",
     "text": [
      "1/1 [==============================] - 0s 452ms/step - loss: 0.5841 - categorical_accuracy: 0.6667\n",
      "Test Loss: 0.5841053128242493\n",
      "Test Accuracy: 0.6666666865348816\n"
     ]
    },
    {
     "data": {
      "image/png": "[encoded data removed]",
      "text/plain": [
       "<Figure size 1400x500 with 2 Axes>"
      ]
     },
     "metadata": {},
     "output_type": "display_data"
    }
   ],
   "source": [
    "import matplotlib.pyplot as plt\n",
    "import numpy as np\n",
    "from sklearn.metrics import accuracy_score\n",
    "\n",
    "res = model.predict(X_test)\n",
    "\n",
    "\n",
    "y_pred = np.argmax(res, axis=1)\n",
    "y_true = np.argmax(y_test, axis=1)\n",
    "\n",
    "\n",
    "test_accuracy = accuracy_score(y_true, y_pred)\n",
    "print(f\"Test Accuracy: {test_accuracy}\")\n",
    "\n",
    "\n",
    "test_loss, test_accuracy = model.evaluate(X_test, y_test)\n",
    "print(f\"Test Loss: {test_loss}\")\n",
    "print(f\"Test Accuracy: {test_accuracy}\")\n",
    "\n",
    "\n",
    "def plot_history(history):\n",
    "    \n",
    "    plt.figure(figsize=(14, 5))\n",
    "\n",
    "    plt.subplot(1, 2, 1)\n",
    "    plt.plot(history.history['categorical_accuracy'], label='Train Accuracy')\n",
    "    plt.xlabel('Epochs')\n",
    "    plt.ylabel('Accuracy')\n",
    "    plt.legend()\n",
    "    plt.title('Training and Validation Accuracy')\n",
    "\n",
    "    \n",
    "    plt.subplot(1, 2, 2)\n",
    "    plt.plot(history.history['loss'], label='Train Loss')\n",
    "    plt.xlabel('Epochs')\n",
    "    plt.ylabel('Loss')\n",
    "    plt.legend()\n",
    "    plt.title('Training and Validation Loss')\n",
    "\n",
    "    plt.show()\n",
    "\n",
    "plot_history(history)\n"
   ]
  },
  {
   "cell_type": "code",
   "execution_count": 25,
   "metadata": {},
   "outputs": [],
   "source": [
    "model.save('action_model_test.h5')"
   ]
  },
  {
   "cell_type": "code",
   "execution_count": 28,
   "metadata": {},
   "outputs": [
    {
     "name": "stderr",
     "output_type": "stream",
     "text": [
      "/home/jinsa/venv/DL_project_venv/lib/python3.10/site-packages/tensorflow/python/data/ops/structured_function.py:264: UserWarning: Even though the `tf.config.experimental_run_functions_eagerly` option is set, this option does not apply to tf.data functions. To force eager execution of tf.data functions, please use `tf.data.experimental.enable_debug_mode()`.\n",
      "  warnings.warn(\n"
     ]
    },
    {
     "name": "stdout",
     "output_type": "stream",
     "text": [
      "1/1 [==============================] - 0s 352ms/step\n",
      "[[[3 2]\n",
      "  [2 5]]\n",
      "\n",
      " [[5 2]\n",
      "  [2 3]]]\n",
      "Accuracy: 0.6666666666666666\n"
     ]
    }
   ],
   "source": [
    "from sklearn.metrics import multilabel_confusion_matrix, accuracy_score\n",
    "import numpy as np\n",
    "\n",
    "# 예측값 생성\n",
    "yhat = model.predict(X_test)\n",
    "\n",
    "# 실제값과 예측값을 원-핫 인코딩에서 클래스 인덱스로 변환\n",
    "ytrue = np.argmax(y_test, axis=1).tolist()\n",
    "yhat = np.argmax(yhat, axis=1).tolist()\n",
    "\n",
    "# 멀티라벨 혼동 행렬 생성\n",
    "conf_matrix = multilabel_confusion_matrix(ytrue, yhat)\n",
    "print(conf_matrix)\n",
    "\n",
    "# 정확도 계산 및 출력\n",
    "accuracy = accuracy_score(ytrue, yhat)\n",
    "print(f'Accuracy: {accuracy}') \n"
   ]
  },
  {
   "cell_type": "code",
   "execution_count": null,
   "metadata": {},
   "outputs": [],
   "source": []
  },
  {
   "cell_type": "code",
   "execution_count": null,
   "metadata": {},
   "outputs": [],
   "source": []
  }
 ],
 "metadata": {
  "kernelspec": {
   "display_name": "DL_project_venv",
   "language": "python",
   "name": "python3"
  },
  "language_info": {
   "codemirror_mode": {
    "name": "ipython",
    "version": 3
   },
   "file_extension": ".py",
   "mimetype": "text/x-python",
   "name": "python",
   "nbconvert_exporter": "python",
   "pygments_lexer": "ipython3",
   "version": "3.10.12"
  }
 },
 "nbformat": 4,
 "nbformat_minor": 2
}
